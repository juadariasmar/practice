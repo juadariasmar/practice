{
 "cells": [
  {
   "cell_type": "code",
   "execution_count": 2,
   "metadata": {},
   "outputs": [],
   "source": [
    "def generate_report(main_tank, external_tank, hydrogen_tank):\n",
    "  output = f\"\"\"Fuel Report:\n",
    "  Main Tank: {main_tank}\n",
    "  External Tank: {external_tank}\n",
    "  Hydrogen Tank: {hydrogen_tank}\n",
    "  \"\"\"\n",
    "  print(output)"
   ]
  },
  {
   "cell_type": "code",
   "execution_count": 3,
   "metadata": {},
   "outputs": [
    {
     "name": "stdout",
     "output_type": "stream",
     "text": [
      "Fuel Report:\n",
      "  Main Tank: 80\n",
      "  External Tank: 70\n",
      "  Hydrogen Tank: 75\n",
      "  \n"
     ]
    }
   ],
   "source": [
    "generate_report(80, 70, 75)"
   ]
  },
  {
   "cell_type": "code",
   "execution_count": 6,
   "metadata": {},
   "outputs": [
    {
     "data": {
      "text/plain": [
       "'Arrival: Friday 22:35'"
      ]
     },
     "execution_count": 6,
     "metadata": {},
     "output_type": "execute_result"
    }
   ],
   "source": [
    "from datetime import timedelta, datetime\n",
    "\n",
    "def arrival_time(hours=51):\n",
    "  now = datetime.now()\n",
    "  arrival = now + timedelta(hours=hours)\n",
    "  return arrival.strftime(\"Arrival: %A %H:%M\")\n",
    "\n",
    "arrival_time()"
   ]
  },
  {
   "cell_type": "code",
   "execution_count": 11,
   "metadata": {},
   "outputs": [
    {
     "data": {
      "text/plain": [
       "'Moon Arrival: Friday 22:47'"
      ]
     },
     "execution_count": 11,
     "metadata": {},
     "output_type": "execute_result"
    }
   ],
   "source": [
    "from datetime import timedelta, datetime\n",
    "\n",
    "def arrival_time(destination, hours=51):\n",
    "  now = datetime.now()\n",
    "  arrival = now + timedelta(hours=hours)\n",
    "  return arrival.strftime(f\"{destination} Arrival: %A %H:%M\")\n",
    "\n",
    "arrival_time('Moon')"
   ]
  },
  {
   "cell_type": "code",
   "execution_count": 15,
   "metadata": {},
   "outputs": [
    {
     "name": "stdout",
     "output_type": "stream",
     "text": [
      "('one', 'two')\n",
      "<function variable_length at 0x7f7cd6f02040>\n"
     ]
    }
   ],
   "source": [
    "def variable_length(*args):\n",
    "  print(args)\n",
    "\n",
    "variable_length(\"one\", \"two\")\n",
    "\n",
    "print(variable_length)"
   ]
  },
  {
   "cell_type": "code",
   "execution_count": 19,
   "metadata": {},
   "outputs": [
    {
     "data": {
      "text/plain": [
       "'Total time to launch is 1.1 hours'"
      ]
     },
     "execution_count": 19,
     "metadata": {},
     "output_type": "execute_result"
    }
   ],
   "source": [
    "def sequence_time(*args):\n",
    "    total_minutes = sum(args)\n",
    "    if total_minutes < 60:\n",
    "        return f\"Total time to launch is {total_minutes} minutes\"\n",
    "    else:\n",
    "        return f\"Total time to launch is {total_minutes/60} hours\"\n",
    "\n",
    "sequence_time(4, 14, 18)\n",
    "sequence_time(4, 14, 48)"
   ]
  },
  {
   "cell_type": "code",
   "execution_count": 20,
   "metadata": {},
   "outputs": [],
   "source": [
    "def variable_length(**kwargs):\n",
    "    print(kwargs)"
   ]
  },
  {
   "cell_type": "code",
   "execution_count": 24,
   "metadata": {},
   "outputs": [
    {
     "name": "stdout",
     "output_type": "stream",
     "text": [
      "{'tanks': 1, 'day': 'Wednesday', 'pilots': 3}\n"
     ]
    },
    {
     "data": {
      "text/plain": [
       "{'tanks': 1, 'day': 'Wednesday', 'pilots': 3}"
      ]
     },
     "execution_count": 24,
     "metadata": {},
     "output_type": "execute_result"
    }
   ],
   "source": [
    "variable_length(tanks=1, day=\"Wednesday\", pilots=3)\n",
    "{'tanks': 1, 'day': 'Wednesday', 'pilots': 3}"
   ]
  },
  {
   "cell_type": "code",
   "execution_count": 27,
   "metadata": {},
   "outputs": [],
   "source": [
    "def crew_members(**kwargs):\n",
    "    print(f\"{len(kwargs)} astronauts assigned for this mission:\")\n",
    "    for title, name in kwargs.items():\n",
    "        print(f\"{title}: {name}\")"
   ]
  },
  {
   "cell_type": "code",
   "execution_count": 28,
   "metadata": {},
   "outputs": [
    {
     "name": "stdout",
     "output_type": "stream",
     "text": [
      "3 astronauts assigned for this mission:\n",
      "captain: Neil Armstrong\n",
      "pilot: Buzz Aldrin\n",
      "command_pilot: Michael Collins\n"
     ]
    }
   ],
   "source": [
    "crew_members(captain=\"Neil Armstrong\", pilot=\"Buzz Aldrin\", command_pilot=\"Michael Collins\")"
   ]
  }
 ],
 "metadata": {
  "kernelspec": {
   "display_name": "Python 3",
   "language": "python",
   "name": "python3"
  },
  "language_info": {
   "codemirror_mode": {
    "name": "ipython",
    "version": 3
   },
   "file_extension": ".py",
   "mimetype": "text/x-python",
   "name": "python",
   "nbconvert_exporter": "python",
   "pygments_lexer": "ipython3",
   "version": "3.9.2"
  },
  "orig_nbformat": 4
 },
 "nbformat": 4,
 "nbformat_minor": 2
}
